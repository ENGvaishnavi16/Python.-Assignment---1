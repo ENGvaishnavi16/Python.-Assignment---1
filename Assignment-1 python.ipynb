{
 "cells": [
  {
   "cell_type": "code",
   "execution_count": 1,
   "id": "6522ed90-55f7-4211-8d60-01231a6b9e9f",
   "metadata": {},
   "outputs": [],
   "source": [
    "#Q.1- Create one variable containing following type of data:\n",
    "#(1)- string\n",
    "#(2)- list\n",
    "#(3)- float\n",
    "#(4)- tuple"
   ]
  },
  {
   "cell_type": "code",
   "execution_count": 2,
   "id": "b7ec3dc0-33f4-4612-9685-0b3fcc14bff6",
   "metadata": {},
   "outputs": [],
   "source": [
    "#solve- \n",
    "var = [(1,5.6,True),\"vaishu\",55.3]"
   ]
  },
  {
   "cell_type": "code",
   "execution_count": 3,
   "id": "bbc1c10b-b661-4a2d-baeb-88e0a3777188",
   "metadata": {},
   "outputs": [],
   "source": [
    "#Q.2- Given are some following varibles containing data:\n",
    "#1- var1=\"\"\n",
    "#2- var2='[DS,ML,Python]'\n",
    "#3- var3=['DS','ML','Python']\n",
    "#4- var4=1.\n",
    "\n",
    "# what will be the data type of the above given variable.\n"
   ]
  },
  {
   "cell_type": "code",
   "execution_count": 4,
   "id": "0260f05a-f885-46d2-906a-6bad9055d38a",
   "metadata": {},
   "outputs": [],
   "source": [
    "#solution- \n",
    "#1- <class 'str'>\n",
    "#2- <class 'str'>\n",
    "#3- <class 'list'>\n",
    "#4- <class 'float'>"
   ]
  },
  {
   "cell_type": "code",
   "execution_count": 5,
   "id": "d4d7c7e3-76ac-4aa5-b793-81ab252a61b2",
   "metadata": {},
   "outputs": [],
   "source": [
    "#Q.3- Explain the use of the following operators using an example:\n",
    "#1- /\n",
    "#2- %\n",
    "#3- //\n",
    "#4- **"
   ]
  },
  {
   "cell_type": "code",
   "execution_count": 7,
   "id": "53c5d8c9-813d-4a1e-afa7-deaa1249b2e2",
   "metadata": {},
   "outputs": [],
   "source": [
    "#solution- All given operators are arithmetic operators. \n",
    "#1- / :- / it operator name is division (float) operator . divides the first operand by the second. it is an arithmetic operator that is used with numeric values to perform common mathemetical operations:\n",
    "#example: x = 12\n",
    "#-        y = 3\n",
    "#-        print(x/y)\n",
    "\n",
    "#output: 4.0\n",
    "\n",
    "#2- % :- % it is modulus operator.returns the remainder when the first operand is divided by the second .\n",
    "#example: x = 5\n",
    "#-        y = 2\n",
    "#-        print(x%y)\n",
    "\n",
    "#output: 1\n",
    "\n",
    "#3- // :- // it is it is floor division operator.divides the first operand by the second.\n",
    "#example: x = 15\n",
    "#-        y = 2\n",
    "#         print(x//y)\n",
    "\n",
    "#output: 7\n",
    "\n",
    "#4- ** :- ** it is Exponentiation operator. it also called power or exponent operator. returns first raised to power second.\n",
    "#example: x = 2\n",
    "#-        y = 5\n",
    "#-        print(x**y) \n",
    "# same as 2*2*2*2*2\n",
    "#output: 32\n"
   ]
  },
  {
   "cell_type": "code",
   "execution_count": 8,
   "id": "6d8e86ad-1ad8-415f-ba81-6d3bce8c4d51",
   "metadata": {},
   "outputs": [],
   "source": [
    "#Q.4- create a listof length 10 of your choice containing multiple types of data. using for loop print the element and its data type."
   ]
  },
  {
   "cell_type": "code",
   "execution_count": 9,
   "id": "04ddc5bd-e059-47aa-8656-4a321cb13a87",
   "metadata": {},
   "outputs": [
    {
     "name": "stdout",
     "output_type": "stream",
     "text": [
      "1\n",
      "<class 'int'>\n",
      "2\n",
      "<class 'int'>\n",
      "3\n",
      "<class 'int'>\n",
      "88.6\n",
      "<class 'float'>\n",
      "vaishu\n",
      "<class 'str'>\n",
      "(1, 2, 55.6)\n",
      "<class 'tuple'>\n",
      "True\n",
      "<class 'bool'>\n",
      "False\n",
      "<class 'bool'>\n",
      "pwskills\n",
      "<class 'str'>\n",
      "8\n",
      "<class 'int'>\n"
     ]
    }
   ],
   "source": [
    "#solution:\n",
    "l = [1,2,3,88.6,\"vaishu\",(1,2,55.6),True,False,\"pwskills\",8]\n",
    "for i in l:\n",
    "    print(i)\n",
    "    print(type(i))\n",
    "\n",
    "\n"
   ]
  },
  {
   "cell_type": "code",
   "execution_count": 10,
   "id": "b0c7c17c-6f6a-4d2d-960d-80333d456401",
   "metadata": {},
   "outputs": [],
   "source": [
    "#Q.5- using a while loop, verify if the number A is purely divisible by number B and if so then how many times it can be divisible."
   ]
  },
  {
   "cell_type": "code",
   "execution_count": null,
   "id": "7a9df31f-7fad-4700-9c87-81328777e83d",
   "metadata": {},
   "outputs": [
    {
     "name": "stdout",
     "output_type": "stream",
     "text": [
      "enter the number 96\n",
      "enter the number 2\n"
     ]
    },
    {
     "name": "stdout",
     "output_type": "stream",
     "text": [
      "48\n"
     ]
    }
   ],
   "source": [
    "#solution:\n",
    "A = int(input(\"enter the number\"))\n",
    "B = int(input(\"enter the number\"))\n",
    "while (A>0):\n",
    "    if A % B == 0:\n",
    "        print(A // B)\n",
    "        A-=1\n",
    "    "
   ]
  },
  {
   "cell_type": "code",
   "execution_count": null,
   "id": "80593e0e-07ce-47f0-92a0-83d502cae761",
   "metadata": {},
   "outputs": [],
   "source": [
    "#Q.6- create a list containing 25 int type data using for loop and if-else condition print if the element is divisible by 3 or not."
   ]
  },
  {
   "cell_type": "code",
   "execution_count": 3,
   "id": "db6fbd55-a6b4-4d18-a281-cafb3c14612a",
   "metadata": {},
   "outputs": [
    {
     "name": "stdout",
     "output_type": "stream",
     "text": [
      "1  is not divisible by 3 \n",
      "2  is not divisible by 3 \n",
      "3 is divisible by 3\n",
      "4  is not divisible by 3 \n",
      "5  is not divisible by 3 \n",
      "6 is divisible by 3\n",
      "7  is not divisible by 3 \n",
      "8  is not divisible by 3 \n",
      "9 is divisible by 3\n",
      "10  is not divisible by 3 \n",
      "11  is not divisible by 3 \n",
      "12 is divisible by 3\n",
      "13  is not divisible by 3 \n",
      "14  is not divisible by 3 \n",
      "15 is divisible by 3\n",
      "16  is not divisible by 3 \n",
      "17  is not divisible by 3 \n",
      "18 is divisible by 3\n",
      "19  is not divisible by 3 \n",
      "20  is not divisible by 3 \n",
      "21 is divisible by 3\n",
      "22  is not divisible by 3 \n",
      "23  is not divisible by 3 \n",
      "24 is divisible by 3\n",
      "25  is not divisible by 3 \n"
     ]
    }
   ],
   "source": [
    "#solution:\n",
    "l = [1,2,3,4,5,6,7,8,9,10,11,12,13,14,15,16,17,18,19,20,21,22,23,24,25]\n",
    "for i in l:\n",
    "    if i % 3 == 0:\n",
    "        print(i,\"is divisible by 3\",)\n",
    "    elif i % 3 != 0:\n",
    "        print(i,\" is not divisible by 3 \")"
   ]
  },
  {
   "cell_type": "code",
   "execution_count": 1,
   "id": "d9dc845c-a9a7-4cd4-8023-95c187751351",
   "metadata": {},
   "outputs": [],
   "source": [
    "#Q.7- What do you understand about mutable and immutable data types?give examples for both showing this property."
   ]
  },
  {
   "cell_type": "code",
   "execution_count": 2,
   "id": "73736a8a-4adc-47b0-b127-4f4382a92790",
   "metadata": {},
   "outputs": [
    {
     "name": "stdout",
     "output_type": "stream",
     "text": [
      "[1, 2, 3, 4]\n",
      "[1, 5, 2, 3, 4]\n",
      "[1, 5, 3, 4]\n",
      "[5, 3, 4]\n",
      "1\n"
     ]
    }
   ],
   "source": [
    "#solution:\n",
    "#mutable data types:- in python ,mutability refers to the capability of an object to be changed or modified after its creation.\n",
    "#example:list,dictionary,set\n",
    "#example 1: Add and remove items from a list in python -\n",
    "a = [1,2,3]\n",
    "a.append(4)\n",
    "print(a)\n",
    "\n",
    "a.insert(1,5)\n",
    "print(a)\n",
    "\n",
    "a.remove(2)\n",
    "print(a)\n",
    "\n",
    "b = a.pop(0)\n",
    "print(a)\n",
    "print(b)\n",
    "\n",
    "    \n"
   ]
  },
  {
   "cell_type": "code",
   "execution_count": 3,
   "id": "afd2b4e8-f647-4826-8ff2-1f3cab734688",
   "metadata": {},
   "outputs": [
    {
     "ename": "TypeError",
     "evalue": "'tuple' object does not support item assignment",
     "output_type": "error",
     "traceback": [
      "\u001b[0;31m---------------------------------------------------------------------------\u001b[0m",
      "\u001b[0;31mTypeError\u001b[0m                                 Traceback (most recent call last)",
      "Cell \u001b[0;32mIn[3], line 7\u001b[0m\n\u001b[1;32m      1\u001b[0m \u001b[38;5;66;03m#immutable data types:- immutable objects are of in - built datatypes like int,float,bool,string,unicode,and tuple.\u001b[39;00m\n\u001b[1;32m      2\u001b[0m \u001b[38;5;66;03m#in simple words, an immutable object can't be changed after it is created.\u001b[39;00m\n\u001b[1;32m      3\u001b[0m \u001b[38;5;66;03m#example 2:\u001b[39;00m\n\u001b[1;32m      4\u001b[0m \u001b[38;5;66;03m# in this example ,we will take a tuple and try to modify its value at a particular index and print it. As a tuple is an immutable object ,it will throw n error when we try to modify it.\u001b[39;00m\n\u001b[1;32m      6\u001b[0m \u001b[38;5;28mtuple\u001b[39m \u001b[38;5;241m=\u001b[39m (\u001b[38;5;241m0\u001b[39m,\u001b[38;5;241m1\u001b[39m,\u001b[38;5;241m2\u001b[39m,\u001b[38;5;241m3\u001b[39m)\n\u001b[0;32m----> 7\u001b[0m \u001b[38;5;28;43mtuple\u001b[39;49m\u001b[43m[\u001b[49m\u001b[38;5;241;43m0\u001b[39;49m\u001b[43m]\u001b[49m \u001b[38;5;241m=\u001b[39m \u001b[38;5;241m4\u001b[39m\n\u001b[1;32m      8\u001b[0m \u001b[38;5;28mprint\u001b[39m(\u001b[38;5;28mtuple\u001b[39m)\n",
      "\u001b[0;31mTypeError\u001b[0m: 'tuple' object does not support item assignment"
     ]
    }
   ],
   "source": [
    "#immutable data types:- immutable objects are of in - built datatypes like int,float,bool,string,unicode,and tuple.\n",
    "#in simple words, an immutable object can't be changed after it is created.\n",
    "#example 2:\n",
    "# in this example ,we will take a tuple and try to modify its value at a particular index and print it. As a tuple is an immutable object ,it will throw n error when we try to modify it.\n",
    "\n",
    "tuple = (0,1,2,3)\n",
    "tuple[0] = 4\n",
    "print(tuple)\n",
    "\n",
    "    "
   ]
  },
  {
   "cell_type": "code",
   "execution_count": null,
   "id": "dffb4390-7cba-4150-93b9-d74c2812857f",
   "metadata": {},
   "outputs": [],
   "source": []
  }
 ],
 "metadata": {
  "kernelspec": {
   "display_name": "Python 3 (ipykernel)",
   "language": "python",
   "name": "python3"
  },
  "language_info": {
   "codemirror_mode": {
    "name": "ipython",
    "version": 3
   },
   "file_extension": ".py",
   "mimetype": "text/x-python",
   "name": "python",
   "nbconvert_exporter": "python",
   "pygments_lexer": "ipython3",
   "version": "3.10.8"
  }
 },
 "nbformat": 4,
 "nbformat_minor": 5
}
